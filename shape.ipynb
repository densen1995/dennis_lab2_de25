{
 "cells": [
  {
   "cell_type": "code",
   "execution_count": null,
   "id": "a0425e11",
   "metadata": {},
   "outputs": [],
   "source": [
    "#GEOMETRY: Parent class; Shape\n",
    "# Shape comparison (for sub-classes;rectangle and circle, by size).\n",
    "#Translation.:..,. ..movement of the shapes.(rectangle and circle from, their various center position (0,0))\n",
    "\n",
    "class Shape:\n",
    "    \"\"\"Parent class for the geometric shapes\n",
    "    \"\"\"\n",
    "\n",
    "    \"\"\"attributes x and y coordinates for the shapes \"\"\"\n",
    "    def __int__(self, x:int|float , y:int|float):\n",
    "        self.x=x\n",
    "        self.y=y\n",
    "\n",
    "\n",
    "    @property\n",
    "    def x(self):\n",
    "        return self._x \n",
    "    "
   ]
  }
 ],
 "metadata": {
  "kernelspec": {
   "display_name": "dennis_lab2_de25",
   "language": "python",
   "name": "python3"
  },
  "language_info": {
   "codemirror_mode": {
    "name": "ipython",
    "version": 3
   },
   "file_extension": ".py",
   "mimetype": "text/x-python",
   "name": "python",
   "nbconvert_exporter": "python",
   "pygments_lexer": "ipython3",
   "version": "3.12.0"
  }
 },
 "nbformat": 4,
 "nbformat_minor": 5
}
