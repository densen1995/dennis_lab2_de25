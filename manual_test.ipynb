{
 "cells": [
  {
   "cell_type": "markdown",
   "id": "043bac50",
   "metadata": {},
   "source": [
    "<h1>Circle.py test"
   ]
  },
  {
   "cell_type": "code",
   "execution_count": 1,
   "id": "2ff18402",
   "metadata": {},
   "outputs": [
    {
     "name": "stdout",
     "output_type": "stream",
     "text": [
      "Circle centered at (0.0, 0.0) with radius=2\n"
     ]
    }
   ],
   "source": [
    "from circle import Circle\n",
    "c1=Circle(radius=2)\n",
    "print(c1)"
   ]
  },
  {
   "cell_type": "code",
   "execution_count": 20,
   "id": "5c4fe9de",
   "metadata": {},
   "outputs": [
    {
     "ename": "ValueError",
     "evalue": "radius must be positive.",
     "output_type": "error",
     "traceback": [
      "\u001b[31m---------------------------------------------------------------------------\u001b[39m",
      "\u001b[31mValueError\u001b[39m                                Traceback (most recent call last)",
      "\u001b[36mCell\u001b[39m\u001b[36m \u001b[39m\u001b[32mIn[20]\u001b[39m\u001b[32m, line 1\u001b[39m\n\u001b[32m----> \u001b[39m\u001b[32m1\u001b[39m \u001b[43mc1\u001b[49m\u001b[43m.\u001b[49m\u001b[43mradius\u001b[49m=-\u001b[32m6\u001b[39m\n",
      "\u001b[36mFile \u001b[39m\u001b[32mc:\\Users\\dense\\Documents\\github\\dennis_lab2_de25\\circle.py:29\u001b[39m, in \u001b[36mCircle.radius\u001b[39m\u001b[34m(self, new_radius)\u001b[39m\n\u001b[32m     27\u001b[39m     \u001b[38;5;28;01mraise\u001b[39;00m \u001b[38;5;167;01mTypeError\u001b[39;00m(\u001b[33m\"\u001b[39m\u001b[33mradius must be a number.\u001b[39m\u001b[33m\"\u001b[39m)\n\u001b[32m     28\u001b[39m \u001b[38;5;28;01mif\u001b[39;00m new_radius < \u001b[32m0\u001b[39m:\n\u001b[32m---> \u001b[39m\u001b[32m29\u001b[39m     \u001b[38;5;28;01mraise\u001b[39;00m \u001b[38;5;167;01mValueError\u001b[39;00m(\u001b[33m\"\u001b[39m\u001b[33mradius must be positive.\u001b[39m\u001b[33m\"\u001b[39m)\n\u001b[32m     30\u001b[39m \u001b[38;5;28mself\u001b[39m._radius=(new_radius)\n",
      "\u001b[31mValueError\u001b[39m: radius must be positive."
     ]
    }
   ],
   "source": [
    "c1.radius=-6"
   ]
  },
  {
   "cell_type": "code",
   "execution_count": 19,
   "id": "7105b198",
   "metadata": {},
   "outputs": [
    {
     "ename": "TypeError",
     "evalue": "radius must be a number.",
     "output_type": "error",
     "traceback": [
      "\u001b[31m---------------------------------------------------------------------------\u001b[39m",
      "\u001b[31mTypeError\u001b[39m                                 Traceback (most recent call last)",
      "\u001b[36mCell\u001b[39m\u001b[36m \u001b[39m\u001b[32mIn[19]\u001b[39m\u001b[32m, line 1\u001b[39m\n\u001b[32m----> \u001b[39m\u001b[32m1\u001b[39m \u001b[43mc1\u001b[49m\u001b[43m.\u001b[49m\u001b[43mradius\u001b[49m= \u001b[33m\"\u001b[39m\u001b[33m4\u001b[39m\u001b[33m\"\u001b[39m\n",
      "\u001b[36mFile \u001b[39m\u001b[32mc:\\Users\\dense\\Documents\\github\\dennis_lab2_de25\\circle.py:27\u001b[39m, in \u001b[36mCircle.radius\u001b[39m\u001b[34m(self, new_radius)\u001b[39m\n\u001b[32m     24\u001b[39m \u001b[38;5;129m@radius\u001b[39m.setter\n\u001b[32m     25\u001b[39m \u001b[38;5;28;01mdef\u001b[39;00m\u001b[38;5;250m \u001b[39m\u001b[34mradius\u001b[39m(\u001b[38;5;28mself\u001b[39m, new_radius):\n\u001b[32m     26\u001b[39m         \u001b[38;5;28;01mif\u001b[39;00m \u001b[38;5;129;01mnot\u001b[39;00m \u001b[38;5;28misinstance\u001b[39m(new_radius,(numbers.Number)):\n\u001b[32m---> \u001b[39m\u001b[32m27\u001b[39m             \u001b[38;5;28;01mraise\u001b[39;00m \u001b[38;5;167;01mTypeError\u001b[39;00m(\u001b[33m\"\u001b[39m\u001b[33mradius must be a number.\u001b[39m\u001b[33m\"\u001b[39m)\n\u001b[32m     28\u001b[39m         \u001b[38;5;28;01mif\u001b[39;00m new_radius < \u001b[32m0\u001b[39m:\n\u001b[32m     29\u001b[39m             \u001b[38;5;28;01mraise\u001b[39;00m \u001b[38;5;167;01mValueError\u001b[39;00m(\u001b[33m\"\u001b[39m\u001b[33mradius must be positive.\u001b[39m\u001b[33m\"\u001b[39m)\n",
      "\u001b[31mTypeError\u001b[39m: radius must be a number."
     ]
    }
   ],
   "source": [
    "c1.radius= \"4\""
   ]
  },
  {
   "cell_type": "code",
   "execution_count": 21,
   "id": "48b3701d",
   "metadata": {},
   "outputs": [],
   "source": [
    "c1.radius=4"
   ]
  },
  {
   "cell_type": "markdown",
   "id": "ed4a8b03",
   "metadata": {},
   "source": [
    "<h1>Rectangle.py test"
   ]
  },
  {
   "cell_type": "code",
   "execution_count": 23,
   "id": "38cc9b9e",
   "metadata": {},
   "outputs": [
    {
     "name": "stdout",
     "output_type": "stream",
     "text": [
      "Shape centered and positioned at (0.0, 0.0)\n"
     ]
    }
   ],
   "source": [
    "from rectangle import Rectangle\n",
    "r1=Rectangle(width=2, height=4)\n",
    "print(r1)"
   ]
  },
  {
   "cell_type": "code",
   "execution_count": 25,
   "id": "6c1ba380",
   "metadata": {},
   "outputs": [
    {
     "ename": "ValueError",
     "evalue": "width must be positive",
     "output_type": "error",
     "traceback": [
      "\u001b[31m---------------------------------------------------------------------------\u001b[39m",
      "\u001b[31mValueError\u001b[39m                                Traceback (most recent call last)",
      "\u001b[36mCell\u001b[39m\u001b[36m \u001b[39m\u001b[32mIn[25]\u001b[39m\u001b[32m, line 1\u001b[39m\n\u001b[32m----> \u001b[39m\u001b[32m1\u001b[39m \u001b[43mr1\u001b[49m\u001b[43m.\u001b[49m\u001b[43mwidth\u001b[49m=-\u001b[32m2\u001b[39m\n\u001b[32m      2\u001b[39m r1.length=-\u001b[32m4\u001b[39m\n",
      "\u001b[36mFile \u001b[39m\u001b[32mc:\\Users\\dense\\Documents\\github\\dennis_lab2_de25\\rectangle.py:30\u001b[39m, in \u001b[36mRectangle.width\u001b[39m\u001b[34m(self, new_width)\u001b[39m\n\u001b[32m     28\u001b[39m     \u001b[38;5;28;01mraise\u001b[39;00m \u001b[38;5;167;01mTypeError\u001b[39;00m(\u001b[33m\"\u001b[39m\u001b[33mwidth must be a number\u001b[39m\u001b[33m\"\u001b[39m)\n\u001b[32m     29\u001b[39m \u001b[38;5;28;01mif\u001b[39;00m new_width <= \u001b[32m0\u001b[39m:\n\u001b[32m---> \u001b[39m\u001b[32m30\u001b[39m     \u001b[38;5;28;01mraise\u001b[39;00m \u001b[38;5;167;01mValueError\u001b[39;00m(\u001b[33m\"\u001b[39m\u001b[33mwidth must be positive\u001b[39m\u001b[33m\"\u001b[39m)\n\u001b[32m     31\u001b[39m \u001b[38;5;28mself\u001b[39m._width = (new_width)\n",
      "\u001b[31mValueError\u001b[39m: width must be positive"
     ]
    }
   ],
   "source": [
    "r1.width=-2\n",
    "r1.length=-4\n"
   ]
  }
 ],
 "metadata": {
  "kernelspec": {
   "display_name": "dennis_lab2_de25",
   "language": "python",
   "name": "python3"
  },
  "language_info": {
   "codemirror_mode": {
    "name": "ipython",
    "version": 3
   },
   "file_extension": ".py",
   "mimetype": "text/x-python",
   "name": "python",
   "nbconvert_exporter": "python",
   "pygments_lexer": "ipython3",
   "version": "3.12.0"
  }
 },
 "nbformat": 4,
 "nbformat_minor": 5
}
